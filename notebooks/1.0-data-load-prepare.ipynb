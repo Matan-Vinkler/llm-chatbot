{
 "cells": [
  {
   "cell_type": "code",
   "execution_count": null,
   "id": "d663b4ab",
   "metadata": {},
   "outputs": [],
   "source": [
    "# Import necessary libraries\n",
    "\n",
    "import os\n",
    "import sys\n",
    "import pandas as pd\n",
    "import numpy as np\n",
    "import re"
   ]
  },
  {
   "cell_type": "code",
   "execution_count": null,
   "id": "76834f0d",
   "metadata": {},
   "outputs": [],
   "source": [
    "# Load the dataset from the specified directory\n",
    "\n",
    "DATA_RAW_PATH = os.path.join(os.getcwd(), '../data/raw')\n",
    "DATA_INTERIM_PATH = os.path.join(os.getcwd(), '../data/interim')\n",
    "\n",
    "conversations_df = pd.read_csv(os.path.join(os.getcwd(), DATA_RAW_PATH, 'movie_conversations.tsv'), sep='\\t', header=None, on_bad_lines='skip')\n",
    "conversations_df.columns = [\"char_id1\", \"char_id2\", \"movie_id\", \"frase_ids\"]\n",
    "\n",
    "lines_df = pd.read_csv(os.path.join(os.getcwd(), DATA_RAW_PATH, 'movie_lines.tsv'), sep='\\t', header=None, on_bad_lines='skip')\n",
    "lines_df.columns = [\"line_id\", \"char_id\", \"movie_id\", \"char_name\", \"text\"]"
   ]
  },
  {
   "cell_type": "code",
   "execution_count": null,
   "id": "b30dd2ec",
   "metadata": {},
   "outputs": [],
   "source": [
    "# Function to split any row into overlapping pairs of frase_ids\n",
    "\n",
    "def split_frase_ids(df):\n",
    "    new_rows = []\n",
    "    for _, row in df.iterrows():\n",
    "        # Clean and split the frase_ids string\n",
    "        frase_ids = row['frase_ids'].replace(\"'\", \"\").replace(\"[\", \"\").replace(\"]\", \"\").split()\n",
    "        if len(frase_ids) >= 2:\n",
    "            for i in range(len(frase_ids) - 1):\n",
    "                row_copy = row.copy()\n",
    "                row_copy['frase_ids'] = str([frase_ids[i], frase_ids[i+1]])\n",
    "                new_rows.append(row_copy)\n",
    "        else:\n",
    "            new_rows.append(row)\n",
    "    return pd.DataFrame(new_rows)\n",
    "\n",
    "conversations_df = split_frase_ids(conversations_df)"
   ]
  },
  {
   "cell_type": "code",
   "execution_count": null,
   "id": "073503f9",
   "metadata": {},
   "outputs": [],
   "source": [
    "# Now we can merge the conversations_df with lines_df to get the text for each frase_id\n",
    "\n",
    "conversations_df[['frase_id1', 'frase_id2']] = conversations_df['frase_ids'].apply(lambda x: pd.Series(eval(x)))\n",
    "conversations_df.drop(columns=['frase_ids'], inplace=True)\n",
    "\n",
    "merged_df = conversations_df.merge(\n",
    "    lines_df[['line_id', 'text']].rename(columns={'line_id': 'frase_id1', 'text': 'text1'}),\n",
    "    on='frase_id1', how='left'\n",
    ").merge(\n",
    "    lines_df[['line_id', 'text']].rename(columns={'line_id': 'frase_id2', 'text': 'text2'}),\n",
    "    on='frase_id2', how='left'\n",
    ")\n",
    "\n",
    "merged_df = merged_df[['text1','text2']]\n",
    "\n",
    "merged_df.dropna(inplace=True)"
   ]
  },
  {
   "cell_type": "code",
   "execution_count": null,
   "id": "64a302e9",
   "metadata": {},
   "outputs": [],
   "source": [
    "# Function to normalize text by converting to lowercase, removing digits, punctuation, and extra whitespace\n",
    "\n",
    "def normalize_text(text):\n",
    "    text = text.lower()\n",
    "    text = re.sub(r'\\d+', '', text)  # Remove digits\n",
    "    text = re.sub(r'[^\\w\\s]', '', text)  # Remove punctuation\n",
    "    text = re.sub(r'\\s+', ' ', text)  # Remove extra whitespace\n",
    "    text = text.strip()  # Remove leading and trailing whitespace\n",
    "    return text\n",
    "\n",
    "merged_df[\"text1\"] = merged_df[\"text1\"].apply(normalize_text)\n",
    "merged_df[\"text2\"] = merged_df[\"text2\"].apply(normalize_text)"
   ]
  },
  {
   "cell_type": "code",
   "execution_count": null,
   "id": "d84213ce",
   "metadata": {},
   "outputs": [],
   "source": [
    "# Save the processed DataFrame to a CSV file\n",
    "\n",
    "merged_df.to_csv(os.path.join(os.getcwd(), DATA_INTERIM_PATH, 'conversations_prepared.csv'), index=False)"
   ]
  },
  {
   "cell_type": "code",
   "execution_count": null,
   "id": "94785723",
   "metadata": {},
   "outputs": [],
   "source": []
  }
 ],
 "metadata": {
  "kernelspec": {
   "display_name": "Python 3",
   "language": "python",
   "name": "python3"
  },
  "language_info": {
   "codemirror_mode": {
    "name": "ipython",
    "version": 3
   },
   "file_extension": ".py",
   "mimetype": "text/x-python",
   "name": "python",
   "nbconvert_exporter": "python",
   "pygments_lexer": "ipython3",
   "version": "3.11.9"
  }
 },
 "nbformat": 4,
 "nbformat_minor": 5
}
